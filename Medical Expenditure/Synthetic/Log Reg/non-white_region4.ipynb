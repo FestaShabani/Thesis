{
 "cells": [
  {
   "cell_type": "code",
   "execution_count": 3,
   "id": "fabadd24-4fbf-4d1d-b244-2edd1d21effc",
   "metadata": {},
   "outputs": [
    {
     "name": "stdout",
     "output_type": "stream",
     "text": [
      "Requirement already satisfied: aif360 in /usr/local/lib/python3.9/site-packages (0.6.1)\n",
      "Requirement already satisfied: numpy>=1.16 in /usr/local/lib/python3.9/site-packages (from aif360) (1.26.4)\n",
      "Requirement already satisfied: scipy>=1.2.0 in /usr/local/lib/python3.9/site-packages (from aif360) (1.13.1)\n",
      "Requirement already satisfied: pandas>=0.24.0 in /usr/local/lib/python3.9/site-packages (from aif360) (2.1.4)\n",
      "Requirement already satisfied: scikit-learn>=1.0 in /usr/local/lib/python3.9/site-packages (from aif360) (1.5.2)\n",
      "Requirement already satisfied: matplotlib in /usr/local/lib/python3.9/site-packages (from aif360) (3.9.4)\n",
      "Requirement already satisfied: python-dateutil>=2.8.2 in /usr/local/lib/python3.9/site-packages (from pandas>=0.24.0->aif360) (2.9.0.post0)\n",
      "Requirement already satisfied: pytz>=2020.1 in /usr/local/lib/python3.9/site-packages (from pandas>=0.24.0->aif360) (2024.2)\n",
      "Requirement already satisfied: tzdata>=2022.1 in /usr/local/lib/python3.9/site-packages (from pandas>=0.24.0->aif360) (2024.2)\n",
      "Requirement already satisfied: joblib>=1.2.0 in /usr/local/lib/python3.9/site-packages (from scikit-learn>=1.0->aif360) (1.4.2)\n",
      "Requirement already satisfied: threadpoolctl>=3.1.0 in /usr/local/lib/python3.9/site-packages (from scikit-learn>=1.0->aif360) (3.5.0)\n",
      "Requirement already satisfied: contourpy>=1.0.1 in /usr/local/lib/python3.9/site-packages (from matplotlib->aif360) (1.3.0)\n",
      "Requirement already satisfied: cycler>=0.10 in /usr/local/lib/python3.9/site-packages (from matplotlib->aif360) (0.12.1)\n",
      "Requirement already satisfied: fonttools>=4.22.0 in /usr/local/lib/python3.9/site-packages (from matplotlib->aif360) (4.55.3)\n",
      "Requirement already satisfied: kiwisolver>=1.3.1 in /usr/local/lib/python3.9/site-packages (from matplotlib->aif360) (1.4.7)\n",
      "Requirement already satisfied: packaging>=20.0 in /usr/local/lib/python3.9/site-packages (from matplotlib->aif360) (24.2)\n",
      "Requirement already satisfied: pillow>=8 in /usr/local/lib/python3.9/site-packages (from matplotlib->aif360) (11.0.0)\n",
      "Requirement already satisfied: pyparsing>=2.3.1 in /usr/local/lib/python3.9/site-packages (from matplotlib->aif360) (3.2.0)\n",
      "Requirement already satisfied: importlib-resources>=3.2.0 in /usr/local/lib/python3.9/site-packages (from matplotlib->aif360) (6.4.5)\n",
      "Requirement already satisfied: zipp>=3.1.0 in /usr/local/lib/python3.9/site-packages (from importlib-resources>=3.2.0->matplotlib->aif360) (3.21.0)\n",
      "Requirement already satisfied: six>=1.5 in /usr/local/lib/python3.9/site-packages (from python-dateutil>=2.8.2->pandas>=0.24.0->aif360) (1.16.0)\n",
      "\u001b[33mWARNING: Running pip as the 'root' user can result in broken permissions and conflicting behaviour with the system package manager, possibly rendering your system unusable.It is recommended to use a virtual environment instead: https://pip.pypa.io/warnings/venv. Use the --root-user-action option if you know what you are doing and want to suppress this warning.\u001b[0m\u001b[33m\n",
      "Note: you may need to restart the kernel to use updated packages.\n"
     ]
    }
   ],
   "source": [
    "pip install aif360"
   ]
  },
  {
   "cell_type": "code",
   "execution_count": 22,
   "id": "38ccd80c-48a4-4c55-b445-02042fc998db",
   "metadata": {},
   "outputs": [],
   "source": [
    "import sys\n",
    "import numpy as np\n",
    "import pandas as pd\n",
    "from aif360.datasets import BinaryLabelDataset\n",
    "from aif360.metrics import BinaryLabelDatasetMetric\n",
    "from aif360.metrics import ClassificationMetric\n",
    "from sklearn.preprocessing import StandardScaler\n",
    "import matplotlib.pyplot as plt\n",
    "import copy\n",
    "from IPython.display import display\n",
    "from aif360.datasets import MEPSDataset19\n",
    "from aif360.datasets import StandardDataset\n",
    "from sklearn.linear_model import LogisticRegression\n",
    "from sklearn.metrics import accuracy_score, balanced_accuracy_score\n",
    "from clearbox_engine import Dataset, Preprocessor, TabularEngine, LabeledSynthesizer\n",
    "from sklearn.preprocessing import OneHotEncoder, LabelEncoder\n",
    "\n",
    "\n",
    "# Ensure reproducibility\n",
    "np.random.seed(1)\n",
    "\n",
    "# Append a path if needed\n",
    "sys.path.append(\"../\")"
   ]
  },
  {
   "cell_type": "code",
   "execution_count": 10,
   "id": "4a964323-a1f9-47dc-af17-afa6a60f8434",
   "metadata": {},
   "outputs": [],
   "source": [
    "def filter_and_update_aif360_dataset(aif360_dataset, unprivileged_race, target_value):\n",
    "    # Extract features and labels from the dataset\n",
    "    features_array = aif360_dataset.features\n",
    "    labels_array = aif360_dataset.labels.flatten()\n",
    "    feature_names = aif360_dataset.feature_names\n",
    "\n",
    "    # Get column indices for RACE and REGION=4\n",
    "    race_idx = feature_names.index(\"RACE\")\n",
    "    region_idx = feature_names.index(\"REGION=4\")\n",
    "\n",
    "    # Apply the mask for filtering\n",
    "    mask = (\n",
    "        (features_array[:, race_idx] == unprivileged_race) &\n",
    "        (labels_array == target_value) &\n",
    "        (features_array[:, region_idx] == 1.0)  \n",
    "    )\n",
    "\n",
    "    # Filter features and labels using the mask\n",
    "    filtered_features = features_array[mask]\n",
    "    filtered_labels = labels_array[mask]\n",
    "\n",
    "    # Create a DataFrame with filtered features and labels\n",
    "    filtered_df = pd.DataFrame(filtered_features, columns=feature_names)\n",
    "    filtered_df[aif360_dataset.label_names[0]] = filtered_labels\n",
    "\n",
    "\n",
    "    # Create a new AIF360 BinaryLabelDataset with the filtered data\n",
    "    filtered_dataset = BinaryLabelDataset(\n",
    "        favorable_label=aif360_dataset.favorable_label,\n",
    "        unfavorable_label=aif360_dataset.unfavorable_label,\n",
    "        df=filtered_df,\n",
    "        label_names=aif360_dataset.label_names,\n",
    "        protected_attribute_names=aif360_dataset.protected_attribute_names,\n",
    "    )\n",
    "\n",
    "    return filtered_dataset\n",
    "\n",
    "def further_preprocessing_aif360(meps_dataset):\n",
    "\n",
    "    # Convert MEPSDataset19 to a DataFrame\n",
    "    df, metadata = meps_dataset.convert_to_dataframe()\n",
    "\n",
    "    # Step 1: Clean invalid values for PCS42 and MCS42\n",
    "    for col in ['PCS42', 'MCS42']:\n",
    "        if col in df.columns:\n",
    "            # Replace negative values with NaN\n",
    "            df[col] = df[col].apply(lambda x: pd.NA if x < 0 else x)\n",
    "            # Fill NaN values with the column median\n",
    "            df[col] = df[col].fillna(df[col].median(skipna=True))\n",
    "\n",
    "\n",
    "    #Scaling them offers better accuracy but slightly worse fairness metrics\n",
    "    # Step 2: Scale numerical features\n",
    "    #scaler = StandardScaler()\n",
    "    #df[['PCS42', 'MCS42']] = scaler.fit_transform(df[['PCS42', 'MCS42']])\n",
    "\n",
    "\n",
    "    # Step 3: Group age into decades\n",
    "    df['Age (decade)'] = df['AGE'].apply(lambda x: min(x // 10 * 10, 70))\n",
    "\n",
    "    # Step 4: One-hot encode categorical columns\n",
    "    categorical_columns = ['Age (decade)']\n",
    "    df = pd.get_dummies(df, columns=categorical_columns)\n",
    "\n",
    "    # Rename one-hot encoded columns to remove `.0` suffix\n",
    "    df.rename(columns=lambda col: col.replace('.0', '') if 'Age (decade)' in col else col, inplace=True)\n",
    "\n",
    "    # Dynamically retrieve column names for encoded categories\n",
    "    age_decade_columns = [col for col in df.columns if 'Age (decade)_' in col]\n",
    "\n",
    "    # Step 5: Rename SEX column and convert RACE\n",
    "    df.rename(columns={'SEX=1': 'SEX'}, inplace=True)\n",
    "    df['RACE'] = df['RACE'].replace({'White': 1.0, 'Non-White': 0.0})\n",
    "\n",
    "    # Step 6: Include new features (POVCAT and INSCOV)\n",
    "    additional_features = [\n",
    "        'POVCAT=1', 'POVCAT=2', 'POVCAT=3', 'POVCAT=4', 'POVCAT=5',\n",
    "        'INSCOV=1', 'INSCOV=2', 'INSCOV=3'\n",
    "    ]\n",
    "\n",
    "    # Ensure these additional features are present in the dataset\n",
    "    for feature in additional_features:\n",
    "        if feature not in df.columns:\n",
    "            raise ValueError(f\"Feature {feature} not found in the dataset.\")\n",
    "\n",
    "    # Step 7: Retain only necessary columns\n",
    "    selected_columns = (\n",
    "        ['RACE', 'SEX', 'PCS42', 'MCS42'] +  # Include numerical and protected attributes\n",
    "        age_decade_columns +\n",
    "        additional_features +\n",
    "        ['UTILIZATION']  # Include target variable\n",
    "    )\n",
    "    df = df[selected_columns]\n",
    "\n",
    "    # Step 8: Create the processed AIF360 dataset\n",
    "    processed_dataset = StandardDataset(\n",
    "        df,\n",
    "        label_name='UTILIZATION',\n",
    "        favorable_classes=[1.0],\n",
    "        protected_attribute_names=['RACE', 'SEX'],\n",
    "        privileged_classes=[[1.0], [1.0]],  # Privileged groups: White and Male\n",
    "    )\n",
    "\n",
    "    return processed_dataset\n",
    "\n",
    "def aif360_to_clearbox(aif360_dataset, target_column):\n",
    "\n",
    "    df, _ = aif360_dataset.convert_to_dataframe()\n",
    "\n",
    "    return Dataset(\n",
    "        data=df,\n",
    "        target_column=target_column,\n",
    "        regression=False,  \n",
    "        name=\"Converted AIF360 Dataset\"\n",
    "    )\n",
    "\n",
    "def generate_multiple_synthetic_datasets(\n",
    "    dataset_df, \n",
    "    target_column, \n",
    "    engine_class, \n",
    "    num_datasets, \n",
    "    epochs=5, \n",
    "    learning_rate=0.001, \n",
    "    half=False, \n",
    "    extra_percentage=0.5\n",
    "):\n",
    "\n",
    "    dataset = Dataset(\n",
    "        data=dataset_df,\n",
    "        target_column=target_column,\n",
    "        column_types=None,\n",
    "        regression=False,\n",
    "    )\n",
    "    preprocessor = Preprocessor(dataset)\n",
    "    X = preprocessor.transform(dataset.get_x())\n",
    "\n",
    "    label_encoder = LabelEncoder()\n",
    "    Y = label_encoder.fit_transform(dataset.get_y()).reshape(-1, 1)  # Convert to numerical and reshape\n",
    "    \n",
    "    # Ensure all data types are numerical\n",
    "    X = X.astype(float)\n",
    "    Y = Y.astype(float)\n",
    "\n",
    "    engine = engine_class(\n",
    "        license_key=LICENSE_KEY,\n",
    "        layers_size=[50],\n",
    "        x_shape=X.shape[1:],\n",
    "        y_shape=Y.shape[1:],\n",
    "        ordinal_feature_sizes=preprocessor.get_features_sizes()[0],\n",
    "        categorical_feature_sizes=preprocessor.get_features_sizes()[1],\n",
    "    )\n",
    "\n",
    "    print(\"Training Tabular Engine...\")\n",
    "    engine.fit(X, y_train_ds=Y, epochs=epochs, learning_rate=learning_rate)\n",
    "\n",
    "    synthesizer = LabeledSynthesizer(dataset, engine)\n",
    "\n",
    "    # Generate the main synthetic datasets\n",
    "    synthetic_data_list = [synthesizer.generate(has_header=True) for _ in range(num_datasets)]\n",
    "    \n",
    "    # Add a partial synthetic dataset if `half` is True\n",
    "    if half:\n",
    "        extra_data_size = int(len(dataset_df) * extra_percentage)\n",
    "        print(f\"Generating an extra partial synthetic dataset of size: {extra_data_size}\")\n",
    "        extra_synthetic_data = synthesizer.generate(has_header=True).sample(n=extra_data_size, random_state=42)\n",
    "        synthetic_data_list.append(extra_synthetic_data)\n",
    "\n",
    "    # Combine all synthetic datasets\n",
    "    concatenated_synthetic_data = pd.concat(synthetic_data_list, axis=0, ignore_index=True)\n",
    "    \n",
    "    return concatenated_synthetic_data\n"
   ]
  },
  {
   "cell_type": "code",
   "execution_count": 11,
   "id": "394e1b48-c9de-43ab-b0ad-efcba102bd79",
   "metadata": {},
   "outputs": [],
   "source": [
    "meps = MEPSDataset19()\n",
    "train, val_test = meps.split([0.7], shuffle=True, seed=42)\n",
    "val, test = val_test.split([0.5], shuffle=True, seed=42)"
   ]
  },
  {
   "cell_type": "code",
   "execution_count": 12,
   "id": "982e591b-0094-4954-92b6-c148ba5dfebd",
   "metadata": {},
   "outputs": [],
   "source": [
    "original_train = further_preprocessing_aif360(train) \n",
    "original_test = further_preprocessing_aif360(test) \n",
    "original_val = further_preprocessing_aif360(val) "
   ]
  },
  {
   "cell_type": "code",
   "execution_count": 13,
   "id": "01973173-d9bc-41a6-bc35-ff0e34ede391",
   "metadata": {},
   "outputs": [],
   "source": [
    "original_train = aif360_to_clearbox(original_train, target_column=\"UTILIZATION\") #clearbox\n",
    "original_test = aif360_to_clearbox(original_test, target_column=\"UTILIZATION\") \n",
    "original_val = aif360_to_clearbox(original_val, target_column=\"UTILIZATION\") "
   ]
  },
  {
   "cell_type": "markdown",
   "id": "574adfeb-3861-4e69-84df-f29c626ae03f",
   "metadata": {},
   "source": [
    "Start of filtered dataset"
   ]
  },
  {
   "cell_type": "code",
   "execution_count": 14,
   "id": "b4cf1f6b-1bcb-49a3-b2ab-590b2c01a26f",
   "metadata": {},
   "outputs": [],
   "source": [
    "filtered_aif360_dataset_train = filter_and_update_aif360_dataset(\n",
    "    aif360_dataset=train, \n",
    "    unprivileged_race=0.0,  \n",
    "    target_value=1.0       \n",
    ")\n",
    "filtered_aif360_dataset_test = filter_and_update_aif360_dataset(\n",
    "    aif360_dataset=test,  \n",
    "    unprivileged_race=0.0,  \n",
    "    target_value=1.0        \n",
    ")"
   ]
  },
  {
   "cell_type": "code",
   "execution_count": 15,
   "id": "a0c69220-c44b-4666-8726-a244b02999f8",
   "metadata": {},
   "outputs": [
    {
     "name": "stderr",
     "output_type": "stream",
     "text": [
      "WARNING:root:[1.0] listed but not observed for feature RACE\n",
      "WARNING:root:[1.0] listed but not observed for feature RACE\n"
     ]
    }
   ],
   "source": [
    "train = further_preprocessing_aif360(filtered_aif360_dataset_train) \n",
    "test = further_preprocessing_aif360(filtered_aif360_dataset_test)"
   ]
  },
  {
   "cell_type": "code",
   "execution_count": 16,
   "id": "48e2e671-9189-4d89-a9c8-596e606a25a0",
   "metadata": {},
   "outputs": [],
   "source": [
    "train_dataset  = aif360_to_clearbox(train, target_column=\"UTILIZATION\") # this is clearbox and filtered\n",
    "test_dataset  = aif360_to_clearbox(test, target_column=\"UTILIZATION\")\n"
   ]
  },
  {
   "cell_type": "code",
   "execution_count": 102,
   "id": "ea7b6e31-e691-42a9-9997-ae7416bb0de7",
   "metadata": {},
   "outputs": [
    {
     "name": "stderr",
     "output_type": "stream",
     "text": [
      "/usr/local/lib/python3.9/site-packages/sklearn/preprocessing/_data.py:2785: UserWarning: n_quantiles (1000) is greater than the total number of samples (267). n_quantiles is set to n_samples.\n",
      "  warnings.warn(\n",
      "\u001b[32m2025-02-19 10:04:10.545\u001b[0m | \u001b[1mINFO    \u001b[0m | \u001b[36m__main__\u001b[0m:\u001b[36mgenerate_multiple_synthetic_datasets\u001b[0m:\u001b[36m144\u001b[0m - \u001b[1mI'm the Sept 2024 engine!\u001b[0m\n"
     ]
    },
    {
     "name": "stdout",
     "output_type": "stream",
     "text": [
      "Clearbox AI Engine: your license is valid.\n",
      "Training Tabular Engine...\n"
     ]
    },
    {
     "name": "stderr",
     "output_type": "stream",
     "text": [
      "Engine fitting in progress: 100%|██████████| 5/5 [00:01<00:00,  4.88epoch/s, Train loss:=472893540.0]\n",
      "/usr/local/lib/python3.9/site-packages/sklearn/preprocessing/_data.py:2785: UserWarning: n_quantiles (1000) is greater than the total number of samples (267). n_quantiles is set to n_samples.\n",
      "  warnings.warn(\n",
      "/usr/local/lib/python3.9/site-packages/sklearn/preprocessing/_data.py:2785: UserWarning: n_quantiles (1000) is greater than the total number of samples (51). n_quantiles is set to n_samples.\n",
      "  warnings.warn(\n",
      "\u001b[32m2025-02-19 10:04:12.228\u001b[0m | \u001b[1mINFO    \u001b[0m | \u001b[36m__main__\u001b[0m:\u001b[36mgenerate_multiple_synthetic_datasets\u001b[0m:\u001b[36m144\u001b[0m - \u001b[1mI'm the Sept 2024 engine!\u001b[0m\n"
     ]
    },
    {
     "name": "stdout",
     "output_type": "stream",
     "text": [
      "Clearbox AI Engine: your license is valid.\n",
      "Training Tabular Engine...\n"
     ]
    },
    {
     "name": "stderr",
     "output_type": "stream",
     "text": [
      "Engine fitting in progress: 100%|██████████| 5/5 [00:00<00:00,  7.30epoch/s, Train loss:=15553478.0]\n",
      "/usr/local/lib/python3.9/site-packages/sklearn/preprocessing/_data.py:2785: UserWarning: n_quantiles (1000) is greater than the total number of samples (51). n_quantiles is set to n_samples.\n",
      "  warnings.warn(\n"
     ]
    },
    {
     "name": "stdout",
     "output_type": "stream",
     "text": [
      "Synthetic Train Data Shape: (1335, 21)\n",
      "Synthetic Test Data Shape: (255, 21)\n"
     ]
    }
   ],
   "source": [
    "LICENSE_KEY = \"licensekeyoverride2023@\"\n",
    "num_datasets = 5\n",
    "extra_percentage = 0.5  # generate 50% of an additional dataset\n",
    "half = False  # enable generating partial dataset\n",
    "\n",
    "# Generate synthetic data for the filtered train dataset\n",
    "synthetic_train_data = generate_multiple_synthetic_datasets(\n",
    "    dataset_df=train_dataset.data,\n",
    "    target_column=\"UTILIZATION\",\n",
    "    engine_class=TabularEngine,\n",
    "    num_datasets=num_datasets,  \n",
    "    half=half,\n",
    "    extra_percentage=extra_percentage\n",
    ")\n",
    "\n",
    "# Generate synthetic data for the filtered test dataset\n",
    "synthetic_test_data = generate_multiple_synthetic_datasets(\n",
    "    dataset_df=test_dataset.data,\n",
    "    target_column=\"UTILIZATION\",\n",
    "    engine_class=TabularEngine,\n",
    "    num_datasets=num_datasets, \n",
    "    half=half,\n",
    "    extra_percentage=extra_percentage\n",
    ")\n",
    "\n",
    "print(\"Synthetic Train Data Shape:\", synthetic_train_data.shape)\n",
    "print(\"Synthetic Test Data Shape:\", synthetic_test_data.shape)"
   ]
  },
  {
   "cell_type": "code",
   "execution_count": 103,
   "id": "e03d2c5b-f50d-47d3-93da-eb35ee1d6aaf",
   "metadata": {},
   "outputs": [
    {
     "name": "stdout",
     "output_type": "stream",
     "text": [
      "Train Dataset (Original) Shape: (11081, 21)\n",
      "Train Dataset (Combined with Synthetic) Shape: (12416, 21)\n",
      "Test Dataset (Original) Shape: (2375, 21)\n",
      "Test Dataset (Combined with Synthetic) Shape: (2630, 21)\n",
      "Validation Dataset Shape: (2374, 21)\n"
     ]
    }
   ],
   "source": [
    "# Combine original and synthetic train data\n",
    "train_transf_0 = pd.concat([original_train.data, synthetic_train_data], axis=0, ignore_index=True)\n",
    "\n",
    "# Combine original and synthetic test data\n",
    "test_transf_0 = pd.concat([original_test.data, synthetic_test_data], axis=0, ignore_index=True)\n",
    "\n",
    "train_0 = original_train.data\n",
    "test_0 = original_test.data\n",
    "val_0 = original_val.data\n",
    "\n",
    "print(\"Train Dataset (Original) Shape:\", train_0.shape)\n",
    "print(\"Train Dataset (Combined with Synthetic) Shape:\", train_transf_0.shape)\n",
    "print(\"Test Dataset (Original) Shape:\", test_0.shape)\n",
    "print(\"Test Dataset (Combined with Synthetic) Shape:\", test_transf_0.shape)\n",
    "print(\"Validation Dataset Shape:\", val_0.shape)\n"
   ]
  },
  {
   "cell_type": "code",
   "execution_count": 20,
   "id": "aed1e7f7-a29b-44fd-85c9-aa7021a3762f",
   "metadata": {
    "jupyter": {
     "source_hidden": true
    }
   },
   "outputs": [
    {
     "name": "stdout",
     "output_type": "stream",
     "text": [
      "Train Dataset (Before Transformation):\n",
      "  Statistical Parity Difference: -0.1264\n",
      "  Disparate Impact: 0.5029\n",
      "\n",
      "Test Dataset (Before Transformation):\n",
      "  Statistical Parity Difference: -0.1491\n",
      "  Disparate Impact: 0.4347\n"
     ]
    }
   ],
   "source": [
    "# Update the protected attribute to use 'RACE'\n",
    "protected_attributes = ['RACE']\n",
    "\n",
    "# Convert processed datasets to BinaryLabelDataset\n",
    "train = BinaryLabelDataset(\n",
    "    favorable_label=1.0,\n",
    "    unfavorable_label=0.0,\n",
    "    df=train_0,\n",
    "    label_names=[\"UTILIZATION\"],  # Target column\n",
    "    protected_attribute_names=protected_attributes\n",
    ")\n",
    "\n",
    "test = BinaryLabelDataset(\n",
    "    favorable_label=1.0,\n",
    "    unfavorable_label=0.0,\n",
    "    df=test_0,\n",
    "    label_names=[\"UTILIZATION\"],  # Target column\n",
    "    protected_attribute_names=protected_attributes\n",
    ")\n",
    "\n",
    "val = BinaryLabelDataset(\n",
    "    favorable_label=1.0,\n",
    "    unfavorable_label=0.0,\n",
    "    df=val_0,\n",
    "    label_names=[\"UTILIZATION\"],  # Target column\n",
    "    protected_attribute_names=protected_attributes\n",
    ")\n",
    "\n",
    "# Evaluate fairness metrics before applying transformations\n",
    "privileged_groups = [{'RACE': 1.0}]  \n",
    "unprivileged_groups = [{'RACE': 0.0}]  \n",
    "\n",
    "metric_train = BinaryLabelDatasetMetric(train, unprivileged_groups, privileged_groups)\n",
    "print(\"Train Dataset (Before Transformation):\")\n",
    "print(f\"  Statistical Parity Difference: {metric_train.mean_difference():.4f}\")\n",
    "print(f\"  Disparate Impact: {metric_train.disparate_impact():.4f}\")\n",
    "\n",
    "metric_test = BinaryLabelDatasetMetric(test, unprivileged_groups, privileged_groups)\n",
    "print(\"\\nTest Dataset (Before Transformation):\")\n",
    "print(f\"  Statistical Parity Difference: {metric_test.mean_difference():.4f}\")\n",
    "print(f\"  Disparate Impact: {metric_test.disparate_impact():.4f}\")"
   ]
  },
  {
   "cell_type": "code",
   "execution_count": 104,
   "id": "f9a860b3-2379-4f8b-b99a-841ed2ac698b",
   "metadata": {},
   "outputs": [
    {
     "name": "stdout",
     "output_type": "stream",
     "text": [
      "\n",
      "Train Dataset (After Transformation):\n",
      "  Statistical Parity Difference: 0.0116\n",
      "  Disparate Impact: 1.0457\n",
      "\n",
      "Test Dataset (After Transformation):\n",
      "  Statistical Parity Difference: -0.0217\n",
      "  Disparate Impact: 0.9175\n"
     ]
    }
   ],
   "source": [
    "# Convert transformed datasets to BinaryLabelDataset\n",
    "train_transf = BinaryLabelDataset(\n",
    "    favorable_label=1.0,\n",
    "    unfavorable_label=0.0,\n",
    "    df=train_transf_0,\n",
    "    label_names=[\"UTILIZATION\"], \n",
    "    protected_attribute_names=[\"RACE\"]  \n",
    ")\n",
    "\n",
    "test_transf = BinaryLabelDataset(\n",
    "    favorable_label=1.0,\n",
    "    unfavorable_label=0.0,\n",
    "    df=test_transf_0,\n",
    "    label_names=[\"UTILIZATION\"],  \n",
    "    protected_attribute_names=[\"RACE\"]  \n",
    ")\n",
    "\n",
    "# Evaluate fairness metrics after applying transformations\n",
    "metric_train_after = BinaryLabelDatasetMetric(train_transf, unprivileged_groups, privileged_groups)\n",
    "print(\"\\nTrain Dataset (After Transformation):\")\n",
    "print(f\"  Statistical Parity Difference: {metric_train_after.mean_difference():.4f}\")\n",
    "print(f\"  Disparate Impact: {metric_train_after.disparate_impact():.4f}\")\n",
    "\n",
    "metric_test_after = BinaryLabelDatasetMetric(test_transf, unprivileged_groups, privileged_groups)\n",
    "print(\"\\nTest Dataset (After Transformation):\")\n",
    "print(f\"  Statistical Parity Difference: {metric_test_after.mean_difference():.4f}\")\n",
    "print(f\"  Disparate Impact: {metric_test_after.disparate_impact():.4f}\")"
   ]
  },
  {
   "cell_type": "code",
   "execution_count": 24,
   "id": "ea47c3a0-5880-43ff-9622-60df083c1c7d",
   "metadata": {
    "jupyter": {
     "source_hidden": true
    }
   },
   "outputs": [],
   "source": [
    "classifier = LogisticRegression(random_state=1, solver='liblinear', max_iter=1000) "
   ]
  },
  {
   "cell_type": "code",
   "execution_count": 25,
   "id": "45dfa792-fc90-4359-8a01-9dc885918927",
   "metadata": {
    "jupyter": {
     "source_hidden": true
    }
   },
   "outputs": [],
   "source": [
    "# Train a classifier on original training data\n",
    "classifier.fit(train.features, train.labels.ravel())\n",
    "\n",
    "# Predict on validation set\n",
    "val_scores = classifier.predict_proba(val.features)[:, 1] "
   ]
  },
  {
   "cell_type": "code",
   "execution_count": 26,
   "id": "2006cf83-c98b-47f2-901c-c8ed1219b194",
   "metadata": {
    "jupyter": {
     "source_hidden": true
    }
   },
   "outputs": [
    {
     "name": "stdout",
     "output_type": "stream",
     "text": [
      "Best Threshold (validation): 0.15000000000000002\n",
      "Best Balanced Accuracy (validation): 0.7609492299554452\n"
     ]
    }
   ],
   "source": [
    "# Select best threshold for validation set\n",
    "thresholds = np.arange(0.01, 1, 0.01)\n",
    "val_balanced_accs = []\n",
    "\n",
    "for threshold in thresholds:\n",
    "    val_LR_predictions = (val_scores >= threshold).astype(int)\n",
    "\n",
    "    val_with_LR_scores = copy.deepcopy(val)\n",
    "    val_with_LR_scores.labels = val_LR_predictions.reshape(-1, 1)  # Update labels with predictions\n",
    "\n",
    "    val_metric = ClassificationMetric(val, val_with_LR_scores,\n",
    "                                      unprivileged_groups=unprivileged_groups,\n",
    "                                      privileged_groups=privileged_groups)\n",
    "    balanced_acc = (val_metric.true_positive_rate() + val_metric.true_negative_rate()) / 2\n",
    "    val_balanced_accs.append(balanced_acc)\n",
    "\n",
    "best_index = np.argmax(val_balanced_accs)\n",
    "best_threshold = thresholds[best_index]\n",
    "best_balanced_acc = val_balanced_accs[best_index]\n",
    "\n",
    "print(f\"Best Threshold (validation): {best_threshold}\")\n",
    "print(f\"Best Balanced Accuracy (validation): {best_balanced_acc}\")"
   ]
  },
  {
   "cell_type": "code",
   "execution_count": 27,
   "id": "488148e5-4b62-4524-91c1-52d74b5aa51b",
   "metadata": {
    "collapsed": true,
    "jupyter": {
     "outputs_hidden": true,
     "source_hidden": true
    }
   },
   "outputs": [
    {
     "name": "stdout",
     "output_type": "stream",
     "text": [
      "Balanced Accuracy (test): 0.7579113924050633\n",
      "Statistical Parity Difference (test): -0.3408764218718051\n",
      "Disparate Impact (test): 0.39012297798718787\n",
      "Average Odds Difference (test): -0.2506417147005355\n",
      "Equal Opportunity Difference (test): -0.21340657105075778\n",
      "Theil Index (test): 0.09063098934333022\n"
     ]
    }
   ],
   "source": [
    "# Apply the best threshold to the test set\n",
    "test_scores = classifier.predict_proba(test.features)[:, 1]\n",
    "test_LR_predictions= (test_scores >= best_threshold).astype(int)\n",
    "\n",
    "# Create a copy of the test dataset and set predicted labels\n",
    "test_with_LR_scores = copy.deepcopy(test)\n",
    "test_with_LR_scores.labels = test_LR_predictions.reshape(-1, 1)\n",
    "\n",
    "# Calculate fairness and performance metrics on the test set\n",
    "test_metric = ClassificationMetric(test, test_with_LR_scores,\n",
    "                                   unprivileged_groups=unprivileged_groups,\n",
    "                                   privileged_groups=privileged_groups)\n",
    "\n",
    "# Balanced Accuracy\n",
    "true_positive_rate = test_metric.true_positive_rate()\n",
    "true_negative_rate = test_metric.true_negative_rate()\n",
    "balanced_accuracy = (true_positive_rate + true_negative_rate) / 2\n",
    "print(f\"Balanced Accuracy (test): {balanced_accuracy}\")\n",
    "\n",
    "# Statistical Parity Difference\n",
    "statistical_parity_difference = test_metric.statistical_parity_difference()\n",
    "print(f\"Statistical Parity Difference (test): {statistical_parity_difference}\")\n",
    "\n",
    "# Disparate Impact\n",
    "disparate_impact = test_metric.disparate_impact()\n",
    "print(f\"Disparate Impact (test): {disparate_impact}\")\n",
    "\n",
    "# Average Odds Difference\n",
    "average_odds_difference = test_metric.average_odds_difference()\n",
    "print(f\"Average Odds Difference (test): {average_odds_difference}\")\n",
    "\n",
    "# Equal Opportunity Difference\n",
    "equal_opportunity_difference = test_metric.equal_opportunity_difference()\n",
    "print(f\"Equal Opportunity Difference (test): {equal_opportunity_difference}\")\n",
    "\n",
    "# Theil Index\n",
    "theil_index = test_metric.theil_index()\n",
    "print(f\"Theil Index (test): {theil_index}\")"
   ]
  },
  {
   "cell_type": "code",
   "execution_count": 28,
   "id": "a2705c9c-a5c4-40a7-b7df-117d2f005d47",
   "metadata": {
    "jupyter": {
     "source_hidden": true
    }
   },
   "outputs": [
    {
     "name": "stderr",
     "output_type": "stream",
     "text": [
      "/usr/local/lib/python3.9/site-packages/aif360/metrics/dataset_metric.py:82: RuntimeWarning: invalid value encountered in scalar divide\n",
      "  return metric_fun(privileged=False) / metric_fun(privileged=True)\n"
     ]
    }
   ],
   "source": [
    "# Plot Test Metrics Over Thresholds\n",
    "test_balanced_accs = []\n",
    "test_disp_impacts = []\n",
    "test_avg_odds_diffs = []\n",
    "\n",
    "for threshold in thresholds:\n",
    "    test_predictions = (test_scores >= threshold).astype(int)\n",
    "    test_with_scores = copy.deepcopy(test)\n",
    "    test_with_scores.labels = test_predictions.reshape(-1, 1)\n",
    "\n",
    "    test_metric = ClassificationMetric(test, test_with_scores, unprivileged_groups, privileged_groups)\n",
    "    test_balanced_accs.append((test_metric.true_positive_rate() + test_metric.true_negative_rate()) / 2)\n",
    "    test_disp_impacts.append(test_metric.disparate_impact())\n",
    "    test_avg_odds_diffs.append(test_metric.average_odds_difference())"
   ]
  },
  {
   "cell_type": "code",
   "execution_count": 29,
   "id": "a599035a-975f-4fb5-9521-93ad2159f9b5",
   "metadata": {
    "collapsed": true,
    "jupyter": {
     "outputs_hidden": true,
     "source_hidden": true
    }
   },
   "outputs": [
    {
     "data": {
      "image/png": "[encoded data removed]",
      "text/plain": [
       "<Figure size 1000x600 with 2 Axes>"
      ]
     },
     "metadata": {},
     "output_type": "display_data"
    }
   ],
   "source": [
    "# Create the figure and primary y-axis for Balanced Accuracy\n",
    "fig, ax1 = plt.subplots(figsize=(10, 6))\n",
    "\n",
    "# Balanced Accuracy\n",
    "ax1.plot(thresholds, test_balanced_accs, label=\"Balanced Accuracy\", color=\"blue\", linewidth=2)\n",
    "ax1.set_xlabel(\"Threshold\", fontsize=14)\n",
    "ax1.set_ylabel(\"Balanced Accuracy\", color=\"blue\", fontsize=14)\n",
    "ax1.tick_params(axis='y', labelcolor=\"blue\")\n",
    "ax1.grid()\n",
    "\n",
    "# Secondary y-axis for Disparate Impact and Equal Opportunity Difference\n",
    "ax2 = ax1.twinx()\n",
    "\n",
    "# Disparate Impact\n",
    "ax2.plot(thresholds, test_disp_impacts, label=\"Disparate Impact\", color=\"orange\", linestyle=\"--\", linewidth=2)\n",
    "\n",
    "# Average Odds Difference\n",
    "ax2.plot(thresholds, test_avg_odds_diffs, label=\"Average Odds Difference\", color=\"red\", linestyle=\"-.\", linewidth=2)\n",
    "\n",
    "ax2.set_ylabel(\"Fairness Metrics\", color=\"red\", fontsize=14)\n",
    "ax2.tick_params(axis='y', labelcolor=\"red\")\n",
    "\n",
    "# Highlight the best threshold\n",
    "ax1.axvline(best_threshold, color='green', linestyle='--', linewidth=2, label=\"Best Threshold\")\n",
    "\n",
    "# Combine legends from both axes\n",
    "lines1, labels1 = ax1.get_legend_handles_labels()\n",
    "lines2, labels2 = ax2.get_legend_handles_labels()\n",
    "fig.legend(lines1 + lines2, labels1 + labels2, loc=\"upper center\", bbox_to_anchor=(0.5, -0.1), ncol=3, fontsize=12)\n",
    "\n",
    "# Title and layout adjustments\n",
    "fig.suptitle(\"Test Metrics vs Threshold (original test data)\", fontsize=16)\n",
    "fig.tight_layout()\n",
    "plt.show()"
   ]
  },
  {
   "cell_type": "code",
   "execution_count": 105,
   "id": "4298b656-eb1d-4269-9f80-d980acfcde8d",
   "metadata": {},
   "outputs": [],
   "source": [
    "classifier = LogisticRegression(random_state=1, solver='liblinear', max_iter=1000) "
   ]
  },
  {
   "cell_type": "code",
   "execution_count": 106,
   "id": "3aee3386-e716-4761-a374-2b6891872a65",
   "metadata": {},
   "outputs": [
    {
     "name": "stdout",
     "output_type": "stream",
     "text": [
      "Balanced Accuracy (test): 0.7986394820755629\n",
      "Statistical Parity Difference (test): -0.22180036210208753\n",
      "Disparate Impact (test): 0.6064536018188633\n",
      "Average Odds Difference (test): -0.14280554438916904\n",
      "Equal Opportunity Difference (test): -0.007116777028281507\n",
      "Theil Index (test): 0.08434426703548711\n"
     ]
    }
   ],
   "source": [
    "classifier.fit(train_transf.features, train_transf.labels.ravel())\n",
    "# Apply the best threshold to the transf test set\n",
    "test_transf_scores = classifier.predict_proba(test_transf.features)[:, 1]\n",
    "test_transf_LR_predictions= (test_transf_scores >= best_threshold).astype(int)\n",
    "\n",
    "# Create a copy of the test dataset and set predicted labels\n",
    "test_transf_with_LR_scores = copy.deepcopy(test_transf)\n",
    "test_transf_with_LR_scores.labels = test_transf_LR_predictions.reshape(-1, 1)\n",
    "\n",
    "# Calculate fairness and performance metrics on the test set\n",
    "test_transf_metric = ClassificationMetric(test_transf, test_transf_with_LR_scores,\n",
    "                                   unprivileged_groups=unprivileged_groups,\n",
    "                                   privileged_groups=privileged_groups)\n",
    "\n",
    "# Balanced Accuracy\n",
    "true_positive_rate = test_transf_metric.true_positive_rate()\n",
    "true_negative_rate = test_transf_metric.true_negative_rate()\n",
    "balanced_accuracy_transf = (true_positive_rate + true_negative_rate) / 2\n",
    "print(f\"Balanced Accuracy (test): {balanced_accuracy_transf}\")\n",
    "\n",
    "# Statistical Parity Difference\n",
    "statistical_parity_difference_transf = test_transf_metric.statistical_parity_difference()\n",
    "print(f\"Statistical Parity Difference (test): {statistical_parity_difference_transf}\")\n",
    "\n",
    "# Disparate Impact\n",
    "disparate_impact_transf = test_transf_metric.disparate_impact()\n",
    "print(f\"Disparate Impact (test): {disparate_impact_transf}\")\n",
    "\n",
    "# Average Odds Difference\n",
    "average_odds_difference_transf = test_transf_metric.average_odds_difference()\n",
    "print(f\"Average Odds Difference (test): {average_odds_difference_transf}\")\n",
    "\n",
    "# Equal Opportunity Difference\n",
    "equal_opportunity_difference_transf = test_transf_metric.equal_opportunity_difference()\n",
    "print(f\"Equal Opportunity Difference (test): {equal_opportunity_difference_transf}\")\n",
    "\n",
    "# Theil Index\n",
    "theil_index_transf = test_transf_metric.theil_index()\n",
    "print(f\"Theil Index (test): {theil_index_transf}\")"
   ]
  },
  {
   "cell_type": "code",
   "execution_count": 107,
   "id": "59d5c6ad-26e2-47c2-9d03-bc50b3d726aa",
   "metadata": {},
   "outputs": [
    {
     "name": "stderr",
     "output_type": "stream",
     "text": [
      "/usr/local/lib/python3.9/site-packages/aif360/metrics/dataset_metric.py:82: RuntimeWarning: invalid value encountered in scalar divide\n",
      "  return metric_fun(privileged=False) / metric_fun(privileged=True)\n"
     ]
    }
   ],
   "source": [
    "# Plot Test Metrics Over Thresholds\n",
    "test_balanced_accs = []\n",
    "test_disp_impacts = []\n",
    "test_avg_odds_diffs = []\n",
    "\n",
    "for threshold in thresholds:\n",
    "    test_predictions = (test_scores >= threshold).astype(int)\n",
    "    test_with_scores = copy.deepcopy(test)\n",
    "    test_with_scores.labels = test_predictions.reshape(-1, 1)\n",
    "\n",
    "    test_metric = ClassificationMetric(test, test_with_scores, unprivileged_groups, privileged_groups)\n",
    "    test_balanced_accs.append((test_metric.true_positive_rate() + test_metric.true_negative_rate()) / 2)\n",
    "    test_disp_impacts.append(test_metric.disparate_impact())\n",
    "    test_avg_odds_diffs.append(test_metric.average_odds_difference())"
   ]
  },
  {
   "cell_type": "code",
   "execution_count": 108,
   "id": "6a4adfee-e329-42c1-b0be-0ebc167b7fb3",
   "metadata": {},
   "outputs": [
    {
     "data": {
      "image/png": "[encoded data removed]",
      "text/plain": [
       "<Figure size 1000x600 with 2 Axes>"
      ]
     },
     "metadata": {},
     "output_type": "display_data"
    }
   ],
   "source": [
    "# Create the figure and primary y-axis for Balanced Accuracy\n",
    "fig, ax1 = plt.subplots(figsize=(10, 6))\n",
    "\n",
    "# Balanced Accuracy\n",
    "ax1.plot(thresholds, test_balanced_accs, label=\"Balanced Accuracy\", color=\"blue\", linewidth=2)\n",
    "ax1.set_xlabel(\"Threshold\", fontsize=14)\n",
    "ax1.set_ylabel(\"Balanced Accuracy\", color=\"blue\", fontsize=14)\n",
    "ax1.tick_params(axis='y', labelcolor=\"blue\")\n",
    "ax1.grid()\n",
    "\n",
    "# Secondary y-axis for Disparate Impact and Equal Opportunity Difference\n",
    "ax2 = ax1.twinx()\n",
    "\n",
    "# Disparate Impact\n",
    "ax2.plot(thresholds, test_disp_impacts, label=\"Disparate Impact\", color=\"orange\", linestyle=\"--\", linewidth=2)\n",
    "\n",
    "# Average Odds Difference\n",
    "ax2.plot(thresholds, test_avg_odds_diffs, label=\"Average Odds Difference\", color=\"red\", linestyle=\"-.\", linewidth=2)\n",
    "\n",
    "ax2.set_ylabel(\"Fairness Metrics\", color=\"red\", fontsize=14)\n",
    "ax2.tick_params(axis='y', labelcolor=\"red\")\n",
    "\n",
    "# Highlight the best threshold\n",
    "ax1.axvline(best_threshold, color='green', linestyle='--', linewidth=2, label=\"Best Threshold\")\n",
    "\n",
    "# Combine legends from both axes\n",
    "lines1, labels1 = ax1.get_legend_handles_labels()\n",
    "lines2, labels2 = ax2.get_legend_handles_labels()\n",
    "fig.legend(lines1 + lines2, labels1 + labels2, loc=\"upper center\", bbox_to_anchor=(0.5, -0.1), ncol=3, fontsize=12)\n",
    "\n",
    "# Title and layout adjustments\n",
    "fig.suptitle(\"Test Metrics vs Threshold (original test data)\", fontsize=16)\n",
    "fig.tight_layout()\n",
    "plt.show()"
   ]
  },
  {
   "cell_type": "code",
   "execution_count": 109,
   "id": "8a584ddf-0a23-4e67-b890-e97fa38864f5",
   "metadata": {},
   "outputs": [
    {
     "data": {
      "text/plain": [
       "'Fairness Metrics Before and After Transformation'"
      ]
     },
     "metadata": {},
     "output_type": "display_data"
    },
    {
     "data": {
      "text/html": [
       "<div>\n",
       "<style scoped>\n",
       "    .dataframe tbody tr th:only-of-type {\n",
       "        vertical-align: middle;\n",
       "    }\n",
       "\n",
       "    .dataframe tbody tr th {\n",
       "        vertical-align: top;\n",
       "    }\n",
       "\n",
       "    .dataframe thead th {\n",
       "        text-align: right;\n",
       "    }\n",
       "</style>\n",
       "<table border=\"1\" class=\"dataframe\">\n",
       "  <thead>\n",
       "    <tr style=\"text-align: right;\">\n",
       "      <th></th>\n",
       "      <th>Dataset</th>\n",
       "      <th>Stage</th>\n",
       "      <th>Metric</th>\n",
       "      <th>Value</th>\n",
       "    </tr>\n",
       "  </thead>\n",
       "  <tbody>\n",
       "    <tr>\n",
       "      <th>0</th>\n",
       "      <td>Train</td>\n",
       "      <td>Before Transformation</td>\n",
       "      <td>Statistical Parity Difference</td>\n",
       "      <td>-0.126402</td>\n",
       "    </tr>\n",
       "    <tr>\n",
       "      <th>1</th>\n",
       "      <td>Train</td>\n",
       "      <td>After Transformation</td>\n",
       "      <td>Statistical Parity Difference</td>\n",
       "      <td>0.011613</td>\n",
       "    </tr>\n",
       "    <tr>\n",
       "      <th>2</th>\n",
       "      <td>Test</td>\n",
       "      <td>Before Transformation</td>\n",
       "      <td>Statistical Parity Difference</td>\n",
       "      <td>-0.149086</td>\n",
       "    </tr>\n",
       "    <tr>\n",
       "      <th>3</th>\n",
       "      <td>Test</td>\n",
       "      <td>After Transformation</td>\n",
       "      <td>Statistical Parity Difference</td>\n",
       "      <td>-0.021748</td>\n",
       "    </tr>\n",
       "    <tr>\n",
       "      <th>4</th>\n",
       "      <td>Train</td>\n",
       "      <td>Before Transformation</td>\n",
       "      <td>Disparate Impact</td>\n",
       "      <td>0.502885</td>\n",
       "    </tr>\n",
       "    <tr>\n",
       "      <th>5</th>\n",
       "      <td>Train</td>\n",
       "      <td>After Transformation</td>\n",
       "      <td>Disparate Impact</td>\n",
       "      <td>1.045671</td>\n",
       "    </tr>\n",
       "    <tr>\n",
       "      <th>6</th>\n",
       "      <td>Test</td>\n",
       "      <td>Before Transformation</td>\n",
       "      <td>Disparate Impact</td>\n",
       "      <td>0.434660</td>\n",
       "    </tr>\n",
       "    <tr>\n",
       "      <th>7</th>\n",
       "      <td>Test</td>\n",
       "      <td>After Transformation</td>\n",
       "      <td>Disparate Impact</td>\n",
       "      <td>0.917531</td>\n",
       "    </tr>\n",
       "  </tbody>\n",
       "</table>\n",
       "</div>"
      ],
      "text/plain": [
       "  Dataset                  Stage                         Metric     Value\n",
       "0   Train  Before Transformation  Statistical Parity Difference -0.126402\n",
       "1   Train   After Transformation  Statistical Parity Difference  0.011613\n",
       "2    Test  Before Transformation  Statistical Parity Difference -0.149086\n",
       "3    Test   After Transformation  Statistical Parity Difference -0.021748\n",
       "4   Train  Before Transformation               Disparate Impact  0.502885\n",
       "5   Train   After Transformation               Disparate Impact  1.045671\n",
       "6    Test  Before Transformation               Disparate Impact  0.434660\n",
       "7    Test   After Transformation               Disparate Impact  0.917531"
      ]
     },
     "metadata": {},
     "output_type": "display_data"
    },
    {
     "data": {
      "text/plain": [
       "'Validation Metrics for Threshold Selection'"
      ]
     },
     "metadata": {},
     "output_type": "display_data"
    },
    {
     "data": {
      "text/html": [
       "<div>\n",
       "<style scoped>\n",
       "    .dataframe tbody tr th:only-of-type {\n",
       "        vertical-align: middle;\n",
       "    }\n",
       "\n",
       "    .dataframe tbody tr th {\n",
       "        vertical-align: top;\n",
       "    }\n",
       "\n",
       "    .dataframe thead th {\n",
       "        text-align: right;\n",
       "    }\n",
       "</style>\n",
       "<table border=\"1\" class=\"dataframe\">\n",
       "  <thead>\n",
       "    <tr style=\"text-align: right;\">\n",
       "      <th></th>\n",
       "      <th>Dataset</th>\n",
       "      <th>Stage</th>\n",
       "      <th>Metric</th>\n",
       "      <th>Value</th>\n",
       "    </tr>\n",
       "  </thead>\n",
       "  <tbody>\n",
       "    <tr>\n",
       "      <th>0</th>\n",
       "      <td>Validation</td>\n",
       "      <td>Best Threshold (Validation)</td>\n",
       "      <td>Threshold</td>\n",
       "      <td>0.150000</td>\n",
       "    </tr>\n",
       "    <tr>\n",
       "      <th>1</th>\n",
       "      <td>Validation</td>\n",
       "      <td>Best Threshold (Validation)</td>\n",
       "      <td>Balanced Accuracy</td>\n",
       "      <td>0.760949</td>\n",
       "    </tr>\n",
       "  </tbody>\n",
       "</table>\n",
       "</div>"
      ],
      "text/plain": [
       "      Dataset                        Stage             Metric     Value\n",
       "0  Validation  Best Threshold (Validation)          Threshold  0.150000\n",
       "1  Validation  Best Threshold (Validation)  Balanced Accuracy  0.760949"
      ]
     },
     "metadata": {},
     "output_type": "display_data"
    },
    {
     "data": {
      "text/plain": [
       "'Test Metrics After Applying Threshold On Original and Transformed'"
      ]
     },
     "metadata": {},
     "output_type": "display_data"
    },
    {
     "data": {
      "text/html": [
       "<div>\n",
       "<style scoped>\n",
       "    .dataframe tbody tr th:only-of-type {\n",
       "        vertical-align: middle;\n",
       "    }\n",
       "\n",
       "    .dataframe tbody tr th {\n",
       "        vertical-align: top;\n",
       "    }\n",
       "\n",
       "    .dataframe thead th {\n",
       "        text-align: right;\n",
       "    }\n",
       "</style>\n",
       "<table border=\"1\" class=\"dataframe\">\n",
       "  <thead>\n",
       "    <tr style=\"text-align: right;\">\n",
       "      <th></th>\n",
       "      <th>Dataset</th>\n",
       "      <th>Stage</th>\n",
       "      <th>Metric</th>\n",
       "      <th>Value</th>\n",
       "    </tr>\n",
       "  </thead>\n",
       "  <tbody>\n",
       "    <tr>\n",
       "      <th>0</th>\n",
       "      <td>Test (Original)</td>\n",
       "      <td>After Threshold</td>\n",
       "      <td>Balanced Accuracy</td>\n",
       "      <td>0.757911</td>\n",
       "    </tr>\n",
       "    <tr>\n",
       "      <th>1</th>\n",
       "      <td>Test (Transformed)</td>\n",
       "      <td>After Threshold</td>\n",
       "      <td>Balanced Accuracy</td>\n",
       "      <td>0.798639</td>\n",
       "    </tr>\n",
       "    <tr>\n",
       "      <th>2</th>\n",
       "      <td>Test (Original)</td>\n",
       "      <td>After Threshold</td>\n",
       "      <td>Statistical Parity Difference</td>\n",
       "      <td>-0.340876</td>\n",
       "    </tr>\n",
       "    <tr>\n",
       "      <th>3</th>\n",
       "      <td>Test (Transformed)</td>\n",
       "      <td>After Threshold</td>\n",
       "      <td>Statistical Parity Difference</td>\n",
       "      <td>-0.221800</td>\n",
       "    </tr>\n",
       "    <tr>\n",
       "      <th>4</th>\n",
       "      <td>Test (Original)</td>\n",
       "      <td>After Threshold</td>\n",
       "      <td>Disparate Impact</td>\n",
       "      <td>0.390123</td>\n",
       "    </tr>\n",
       "    <tr>\n",
       "      <th>5</th>\n",
       "      <td>Test (Transformed)</td>\n",
       "      <td>After Threshold</td>\n",
       "      <td>Disparate Impact</td>\n",
       "      <td>0.606454</td>\n",
       "    </tr>\n",
       "    <tr>\n",
       "      <th>6</th>\n",
       "      <td>Test (Original)</td>\n",
       "      <td>After Threshold</td>\n",
       "      <td>Average Odds Difference</td>\n",
       "      <td>-0.250642</td>\n",
       "    </tr>\n",
       "    <tr>\n",
       "      <th>7</th>\n",
       "      <td>Test (Transformed)</td>\n",
       "      <td>After Threshold</td>\n",
       "      <td>Average Odds Difference</td>\n",
       "      <td>-0.142806</td>\n",
       "    </tr>\n",
       "    <tr>\n",
       "      <th>8</th>\n",
       "      <td>Test (Original)</td>\n",
       "      <td>After Threshold</td>\n",
       "      <td>Equal Opportunity Difference</td>\n",
       "      <td>-0.213407</td>\n",
       "    </tr>\n",
       "    <tr>\n",
       "      <th>9</th>\n",
       "      <td>Test (Transformed)</td>\n",
       "      <td>After Threshold</td>\n",
       "      <td>Equal Opportunity Difference</td>\n",
       "      <td>-0.007117</td>\n",
       "    </tr>\n",
       "    <tr>\n",
       "      <th>10</th>\n",
       "      <td>Test (Original)</td>\n",
       "      <td>After Threshold</td>\n",
       "      <td>Theil Index</td>\n",
       "      <td>0.090631</td>\n",
       "    </tr>\n",
       "    <tr>\n",
       "      <th>11</th>\n",
       "      <td>Test (Transformed)</td>\n",
       "      <td>After Threshold</td>\n",
       "      <td>Theil Index</td>\n",
       "      <td>0.084344</td>\n",
       "    </tr>\n",
       "  </tbody>\n",
       "</table>\n",
       "</div>"
      ],
      "text/plain": [
       "               Dataset            Stage                         Metric  \\\n",
       "0      Test (Original)  After Threshold              Balanced Accuracy   \n",
       "1   Test (Transformed)  After Threshold              Balanced Accuracy   \n",
       "2      Test (Original)  After Threshold  Statistical Parity Difference   \n",
       "3   Test (Transformed)  After Threshold  Statistical Parity Difference   \n",
       "4      Test (Original)  After Threshold               Disparate Impact   \n",
       "5   Test (Transformed)  After Threshold               Disparate Impact   \n",
       "6      Test (Original)  After Threshold        Average Odds Difference   \n",
       "7   Test (Transformed)  After Threshold        Average Odds Difference   \n",
       "8      Test (Original)  After Threshold   Equal Opportunity Difference   \n",
       "9   Test (Transformed)  After Threshold   Equal Opportunity Difference   \n",
       "10     Test (Original)  After Threshold                    Theil Index   \n",
       "11  Test (Transformed)  After Threshold                    Theil Index   \n",
       "\n",
       "       Value  \n",
       "0   0.757911  \n",
       "1   0.798639  \n",
       "2  -0.340876  \n",
       "3  -0.221800  \n",
       "4   0.390123  \n",
       "5   0.606454  \n",
       "6  -0.250642  \n",
       "7  -0.142806  \n",
       "8  -0.213407  \n",
       "9  -0.007117  \n",
       "10  0.090631  \n",
       "11  0.084344  "
      ]
     },
     "metadata": {},
     "output_type": "display_data"
    }
   ],
   "source": [
    "results_data = {\n",
    "    \"Dataset\": [\n",
    "        \"Train\", \"Train\", \"Test\", \"Test\", \n",
    "        \"Train\", \"Train\", \"Test\", \"Test\", \n",
    "        \"Validation\", \"Validation\", \n",
    "        \"Test (Original)\", \"Test (Transformed)\",\n",
    "        \"Test (Original)\", \"Test (Transformed)\",\n",
    "        \"Test (Original)\", \"Test (Transformed)\",\n",
    "        \"Test (Original)\", \"Test (Transformed)\",\n",
    "        \"Test (Original)\", \"Test (Transformed)\",\n",
    "        \"Test (Original)\", \"Test (Transformed)\"\n",
    "    ],\n",
    "    \"Stage\": [\n",
    "        \"Before Transformation\", \"After Transformation\", \n",
    "        \"Before Transformation\", \"After Transformation\",\n",
    "        \"Before Transformation\", \"After Transformation\", \n",
    "        \"Before Transformation\", \"After Transformation\",\n",
    "        \"Best Threshold (Validation)\", \"Best Threshold (Validation)\",\n",
    "        \"After Threshold\", \"After Threshold\", \n",
    "        \"After Threshold\", \"After Threshold\", \n",
    "        \"After Threshold\", \"After Threshold\", \n",
    "        \"After Threshold\", \"After Threshold\", \n",
    "        \"After Threshold\", \"After Threshold\", \n",
    "        \"After Threshold\", \"After Threshold\"\n",
    "    ],\n",
    "    \"Metric\": [\n",
    "        \"Statistical Parity Difference\", \"Statistical Parity Difference\",\n",
    "        \"Statistical Parity Difference\", \"Statistical Parity Difference\",\n",
    "        \"Disparate Impact\", \"Disparate Impact\",\n",
    "        \"Disparate Impact\", \"Disparate Impact\",\n",
    "        \"Threshold\", \"Balanced Accuracy\",\n",
    "        \"Balanced Accuracy\", \"Balanced Accuracy\", \n",
    "        \"Statistical Parity Difference\", \"Statistical Parity Difference\", \n",
    "        \"Disparate Impact\", \"Disparate Impact\",\n",
    "        \"Average Odds Difference\", \"Average Odds Difference\",\n",
    "        \"Equal Opportunity Difference\", \"Equal Opportunity Difference\", \n",
    "        \"Theil Index\", \"Theil Index\"\n",
    "    ],\n",
    "    \"Value\": [\n",
    "        metric_train.mean_difference(),\n",
    "        metric_train_after.mean_difference(),\n",
    "        metric_test.mean_difference(),\n",
    "        metric_test_after.mean_difference(),\n",
    "        metric_train.disparate_impact(),\n",
    "        metric_train_after.disparate_impact(),\n",
    "        metric_test.disparate_impact(),\n",
    "        metric_test_after.disparate_impact(),\n",
    "        best_threshold,\n",
    "        best_balanced_acc,\n",
    "        balanced_accuracy, balanced_accuracy_transf,\n",
    "        statistical_parity_difference, statistical_parity_difference_transf,\n",
    "        disparate_impact, disparate_impact_transf,\n",
    "        average_odds_difference, average_odds_difference_transf,\n",
    "        equal_opportunity_difference, equal_opportunity_difference_transf,\n",
    "        theil_index, theil_index_transf\n",
    "    ]\n",
    "}\n",
    "\n",
    "# Create the DataFrame\n",
    "results_table = pd.DataFrame(results_data)\n",
    "# Separate the data into three groups\n",
    "fairness_metrics = results_table.iloc[0:8].reset_index(drop=True)\n",
    "validation_metrics = results_table.iloc[8:10].reset_index(drop=True)\n",
    "test_metrics = results_table.iloc[10:22].reset_index(drop=True)\n",
    "\n",
    "# Name the tables\n",
    "fairness_metrics.name = \"Fairness Metrics Before and After Transformation\"\n",
    "validation_metrics.name = \"Validation Metrics for Threshold Selection\"\n",
    "test_metrics.name = \"Test Metrics After Applying Threshold On Original and Transformed\"\n",
    "\n",
    "# Display the tables with their names\n",
    "for table in [fairness_metrics, validation_metrics, test_metrics]:\n",
    "    display(table.name)\n",
    "    display(table)"
   ]
  },
  {
   "cell_type": "code",
   "execution_count": null,
   "id": "b3f9dbf8-f93b-426f-ae4f-8f9a61a43480",
   "metadata": {},
   "outputs": [],
   "source": []
  }
 ],
 "metadata": {
  "kernelspec": {
   "display_name": "Python 3 (ipykernel)",
   "language": "python",
   "name": "python3"
  },
  "language_info": {
   "codemirror_mode": {
    "name": "ipython",
    "version": 3
   },
   "file_extension": ".py",
   "mimetype": "text/x-python",
   "name": "python",
   "nbconvert_exporter": "python",
   "pygments_lexer": "ipython3",
   "version": "3.9.7"
  }
 },
 "nbformat": 4,
 "nbformat_minor": 5
}
